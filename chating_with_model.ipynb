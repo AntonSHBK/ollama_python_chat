{
 "cells": [
  {
   "cell_type": "markdown",
   "metadata": {},
   "source": [
    "# Чат с Ollama"
   ]
  },
  {
   "cell_type": "code",
   "execution_count": null,
   "metadata": {},
   "outputs": [],
   "source": [
    "from model import BaseModelRunner, ChatModelRunner"
   ]
  },
  {
   "cell_type": "code",
   "execution_count": null,
   "metadata": {},
   "outputs": [],
   "source": [
    "base_runner = BaseModelRunner()\n",
    "prompt = \"Напиши краткое описание модели Ollama.\"\n",
    "base_response = base_runner.generate(prompt)\n",
    "print(f\"Base Model Response: {base_response}\")"
   ]
  }
 ],
 "metadata": {
  "language_info": {
   "name": "python"
  }
 },
 "nbformat": 4,
 "nbformat_minor": 2
}
