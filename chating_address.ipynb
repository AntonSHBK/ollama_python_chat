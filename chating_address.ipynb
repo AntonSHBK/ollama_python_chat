{
 "cells": [
  {
   "cell_type": "code",
   "execution_count": 18,
   "metadata": {},
   "outputs": [],
   "source": [
    "import os\n",
    "import json\n",
    "import pandas as pd\n",
    "\n",
    "from dotenv import load_dotenv\n",
    "\n",
    "from model import BaseModelRunner, ChatModelRunner"
   ]
  },
  {
   "cell_type": "code",
   "execution_count": 16,
   "metadata": {},
   "outputs": [],
   "source": [
    "from pathlib import Path\n",
    "\n",
    "DATA_PATH_DOWNLOAD = Path('D:\\projects\\ML\\ollama_python_chat\\data')\n",
    "DATA_PATH_DOWNLOAD.mkdir(parents=True, exist_ok=True)\n"
   ]
  },
  {
   "cell_type": "code",
   "execution_count": 17,
   "metadata": {},
   "outputs": [],
   "source": [
    "def load_data_xl(path: Path, name) -> pd.DataFrame:\n",
    "    print(\"Read data set from path {path}\".format(path=path))\n",
    "    df = pd.read_excel(path / name)\n",
    "    return df\n",
    "\n",
    "def load_data_csv(path: Path, name, sep='|') -> pd.DataFrame:\n",
    "    print(\"Read data set from path {path}\".format(path=path))\n",
    "    df = pd.read_csv(path / name, sep=sep)\n",
    "    return df\n",
    "\n",
    "def print_text(df):\n",
    "    for text in df['text']:\n",
    "        print(text)"
   ]
  },
  {
   "cell_type": "markdown",
   "metadata": {},
   "source": [
    "# Предварительные действия"
   ]
  },
  {
   "cell_type": "code",
   "execution_count": null,
   "metadata": {},
   "outputs": [],
   "source": [
    "cat_df = load_data_xl(DATA_PATH_DOWNLOAD, 'address_70b_last.xlsx')\n",
    "# cat_df = cat_df[cat_df['address']]\n",
    "cat_df"
   ]
  },
  {
   "cell_type": "markdown",
   "metadata": {},
   "source": [
    "# Чат с Ollama"
   ]
  },
  {
   "cell_type": "code",
   "execution_count": null,
   "metadata": {},
   "outputs": [],
   "source": [
    "class OllamaBatchProcessor(BaseModelRunner):\n",
    "    prompt_template_default = '''\n",
    "Задача:\n",
    "Найди в тексте адрес или муниципальный объект и верни его в формате, подходящем для поиска в Yandex. Если в тексте не указан адрес или объект, верни \"None\".\n",
    "Формат ответа:\n",
    "Напиши объект json. В ответе должен быть только сам объект, без дополнительных комментариев.\n",
    "Формат:\n",
    "[{{\"result\": \"адрес или объект\" или None }}]\n",
    "Список текстов для обработки:\n",
    "{texts}.\n",
    "'''\n",
    "\n",
    "    def __init__(self, df: pd.DataFrame, model_name='llama3.1', model_dir=os.getcwd(), template=None, target_column_name='text', result_column_name=\"llama_result\"):\n",
    "        super().__init__(model_name=model_name, model_dir=model_dir)\n",
    "        self.df = df\n",
    "        self.prompt_template = template if template else self.prompt_template_default\n",
    "        self.target_column_name = target_column_name\n",
    "        self.result_column_name = result_column_name\n",
    "\n",
    "    def _generate_prompt(self, batch_df: pd.DataFrame) -> str:\n",
    "        texts = '\\n'.join([f\"index {index}; text: {row[self.target_column_name]}\" for index, row in batch_df.iterrows()])\n",
    "        prompt = self.prompt_template.format(texts=texts)\n",
    "        return prompt\n",
    "\n",
    "    def process_single_row(self, max_retries: int = 5) -> pd.DataFrame:\n",
    "        for index, row in tqdm(self.df.iterrows(), total=len(self.df), desc=\"Processing rows\"):\n",
    "            success = False\n",
    "            for attempt in range(max_retries):\n",
    "                try:\n",
    "                    row_df = pd.DataFrame([row])\n",
    "                    prompt = self._generate_prompt(row_df)\n",
    "                    response = self.generate(prompt)\n",
    "                    response_json = json.loads(response)\n",
    "\n",
    "                    if response_json:\n",
    "                        response_item = response_json[0]\n",
    "                        result = response_item['result']\n",
    "                        self.df.at[index, self.result_column_name] = result\n",
    "\n",
    "                    success = True\n",
    "                    break\n",
    "                except Exception as e:\n",
    "                    print(f\"Ошибка при обработке строки с индексом {index}, попытка {attempt + 1} из {max_retries}: {e}\")\n",
    "\n",
    "            if not success:\n",
    "                print(f\"Не удалось обработать строку с индексом {index} после {max_retries} попыток\")\n",
    "                \n",
    "        return self.df\n",
    "\n",
    "    def process_batch(self, batch_size: int = 10, max_retries: int = 5) -> pd.DataFrame:\n",
    "        for start_idx in tqdm(range(0, len(self.df), batch_size), desc=\"Processing batches\"):\n",
    "            batch_df = self.df.iloc[start_idx:start_idx + batch_size]\n",
    "            success = False\n",
    "            for attempt in range(max_retries):\n",
    "                try:\n",
    "                    prompt = self._generate_prompt(batch_df)\n",
    "                    response = self.generate(prompt)\n",
    "                    response_json = json.loads(response)\n",
    "\n",
    "                    if response_json:\n",
    "                        for i, response_item in enumerate(response_json):\n",
    "                            index = batch_df.index[i]\n",
    "                            result = response_item['result']\n",
    "                            self.df.at[index, self.result_column_name] = result\n",
    "\n",
    "                    success = True\n",
    "                    break\n",
    "                except Exception as e:\n",
    "                    print(f\"Ошибка при обработке батча с индексом {start_idx}, попытка {attempt + 1} из {max_retries}: {e}\")\n",
    "\n",
    "            if not success:\n",
    "                print(f\"Не удалось обработать батч с индексом {start_idx} после {max_retries} попыток\")\n",
    "                \n",
    "        return self.df\n"
   ]
  },
  {
   "cell_type": "code",
   "execution_count": 21,
   "metadata": {},
   "outputs": [],
   "source": [
    "prompt = '''\n",
    "Задача:\n",
    "Найди в тексте точный адрес, территориальный объект (например школа или больница) или регион и верни его в формате, подходящем для поиска в Yandex. Если в тексте нет этого пиши \"None\". \n",
    "Дополнение:\n",
    "Номера телефонов писать не надо. Область писать не надо. Некоторые регионы похожы на имена людей. Улицы должны быть в начальной форме. Если есть номер дома то указывай его. Если указано несколько отдельных адресов пиши их через ';'.\n",
    "Формат ответа:\n",
    "Напиши объект json, без дополнительных комментариев.\n",
    "Формат:\n",
    "[{{\"result\": \"адрес или объект\" }}]\n",
    "Список текстов для обработки:\n",
    "{texts}.\"\n",
    "'''"
   ]
  },
  {
   "cell_type": "code",
   "execution_count": 22,
   "metadata": {},
   "outputs": [],
   "source": [
    "# prompt = '''\n",
    "# Задача:\n",
    "# Найди в тексте точный адрес, территориальный объект (например школа или больница) или регион и верни его в формате, подходящем для поиска в Yandex. Если в тексте не указан адрес или объект, верни \"None\". \n",
    "# Дополнение:\n",
    "# Номера телефонов писать не надо. Область писать не надо. Улицы должны быть в начальной форме. Если есть номер дома то указывай его. Если нет точного адреса пиши None.\n",
    "# Формат ответа:\n",
    "# Напиши объект json, без дополнительных комментариев. Ответ должен быть в одну строку.\n",
    "# Формат:\n",
    "# [{{\"result\": \"адрес или объект или None\" }}]\n",
    "# Список текстов для обработки:\n",
    "# {texts}.\"\n",
    "# '''"
   ]
  },
  {
   "cell_type": "code",
   "execution_count": null,
   "metadata": {},
   "outputs": [],
   "source": [
    "# work_df = cat_df.sample(frac=1)\n",
    "# work_df = cat_df.sample(10)\n",
    "work_df = cat_df.sample(10000)\n",
    "load_dotenv()\n",
    "\n",
    "# model_name = os.getenv('MODEL_NAME', 'llama3.1')\n",
    "model_name = 'llama3.1:70b'\n",
    "# model_name = 'llama3.1'\n",
    "model_dir = os.getenv('OLLAMA_MODELS', os.getcwd())\n",
    "\n",
    "processor = OllamaBatchProcessor(work_df, model_name=model_name, model_dir=model_dir, result_column_name='address_70B',target_column_name='text', template=prompt)"
   ]
  },
  {
   "cell_type": "code",
   "execution_count": null,
   "metadata": {},
   "outputs": [],
   "source": [
    "result_df = processor.process_single_row()"
   ]
  },
  {
   "cell_type": "code",
   "execution_count": 11,
   "metadata": {},
   "outputs": [],
   "source": [
    "pd.set_option('display.max_colwidth', 200)  "
   ]
  },
  {
   "cell_type": "code",
   "execution_count": null,
   "metadata": {},
   "outputs": [],
   "source": [
    "result_df"
   ]
  },
  {
   "cell_type": "code",
   "execution_count": null,
   "metadata": {},
   "outputs": [],
   "source": [
    "df_filtered = cat_df[~cat_df['id'].isin(result_df['id'])]\n",
    "df_filtered.to_excel(DATA_PATH_DOWNLOAD / 'address_70b_last.xlsx', index=False)\n",
    "df_filtered"
   ]
  },
  {
   "cell_type": "code",
   "execution_count": 14,
   "metadata": {},
   "outputs": [],
   "source": [
    "result_df.to_excel(DATA_PATH_DOWNLOAD / 'address_70B_2.xlsx', index=False)"
   ]
  }
 ],
 "metadata": {
  "kernelspec": {
   "display_name": ".venv",
   "language": "python",
   "name": "python3"
  },
  "language_info": {
   "codemirror_mode": {
    "name": "ipython",
    "version": 3
   },
   "file_extension": ".py",
   "mimetype": "text/x-python",
   "name": "python",
   "nbconvert_exporter": "python",
   "pygments_lexer": "ipython3",
   "version": "3.11.5"
  }
 },
 "nbformat": 4,
 "nbformat_minor": 2
}
